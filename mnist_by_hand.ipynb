{
 "cells": [
  {
   "cell_type": "code",
   "execution_count": 1,
   "metadata": {
    "collapsed": false
   },
   "outputs": [
    {
     "name": "stderr",
     "output_type": "stream",
     "text": [
      "/home/batman/anaconda/lib/python2.7/site-packages/sklearn/preprocessing/data.py:153: UserWarning: Numerical issues were encountered when centering the data and might not be solved. Dataset may contain too large values. You may need to prescale your features.\n",
      "  warnings.warn(\"Numerical issues were encountered \"\n",
      "/home/batman/anaconda/lib/python2.7/site-packages/sklearn/preprocessing/data.py:169: UserWarning: Numerical issues were encountered when scaling the data and might not be solved. The standard deviation of the data is probably very close to 0. \n",
      "  warnings.warn(\"Numerical issues were encountered \"\n"
     ]
    },
    {
     "name": "stdout",
     "output_type": "stream",
     "text": [
      "Populating the interactive namespace from numpy and matplotlib\n"
     ]
    }
   ],
   "source": [
    "%pylab inline\n",
    "import numpy as np\n",
    "from sklearn import preprocessing\n",
    "from keras.datasets import mnist\n",
    "from keras.utils import np_utils\n",
    "np.set_printoptions(suppress=True)\n",
    "(X_train, y_train), (X_test, y_test) = mnist.load_data()\n",
    "\n",
    "def preproc(X_train, y_train):\n",
    "    X = X_train\n",
    "    X = X.reshape(X.shape[0], X.shape[1] * X.shape[2]).astype(\"float32\")\n",
    "    #X = X/255\n",
    "    X = preprocessing.scale(X)\n",
    "    Y = np_utils.to_categorical(y_train, 10)\n",
    "    return X, Y\n",
    "\n",
    "X, Y = preproc(X_train, y_train)\n",
    "Xt, Yt = preproc(X_test, y_test)"
   ]
  },
  {
   "cell_type": "code",
   "execution_count": 2,
   "metadata": {
    "collapsed": false
   },
   "outputs": [],
   "source": [
    "# add biases?\n",
    "def update(y0):\n",
    "    def dtanh(x):\n",
    "        # pass in tanh\n",
    "        return 1 - (np.tanh(x)**2)\n",
    "    \n",
    "    # forward pass\n",
    "    # L vector matrix multiplies, L vector vector adds, L-1 NL\n",
    "    net = []\n",
    "    y = [y0]\n",
    "    for i in range(len(W)):\n",
    "        net.append(np.dot(y[i], W[i]) + B[i])\n",
    "        if i != len(W)-1:   # last layer is linear\n",
    "            y.append(np.tanh(net[-1]))\n",
    "        else:\n",
    "            y.append(net[-1])\n",
    "\n",
    "    # squared error derivative, (computed - target)\n",
    "    err = y[-1]-y[0]\n",
    "    e = [2*(err)]\n",
    "    \n",
    "    # backward pass\n",
    "    # L-1 vector matrix multiplies, L-1 dNL\n",
    "    for i in range(len(W)-2, -1, -1):\n",
    "        e = [np.dot(W[i+1], e[0]) * dtanh(net[i])] + e\n",
    "    \n",
    "    # update the weights and biases\n",
    "    gW, gB = [], []\n",
    "    for i in range(len(W)):\n",
    "        gW.append(np.outer(y[i], e[i]))\n",
    "        gB.append(e[i])\n",
    "\n",
    "    return np.mean((err)**2), gW, gB"
   ]
  },
  {
   "cell_type": "code",
   "execution_count": 42,
   "metadata": {
    "collapsed": true
   },
   "outputs": [],
   "source": [
    "np.random.seed(1337)\n",
    "init = 0.08\n",
    "\n",
    "#sz = [784, 256, 32, 256, 784]\n",
    "sz = [32,32]\n",
    "W, B = [], []\n",
    "\n",
    "X = np.zeros((32,32)).astype(np.float32)\n",
    "for i in range(32):\n",
    "    X[i,i] = 1.0\n",
    "\n",
    "for i in range(len(sz)-1):\n",
    "    W.append(np.random.uniform(size=(sz[i], sz[i+1]), low=-init, high=init).astype(np.float32))\n",
    "    B.append(np.random.uniform(size=(sz[i+1]), low=-init, high=init).astype(np.float32))"
   ]
  },
  {
   "cell_type": "code",
   "execution_count": 49,
   "metadata": {
    "collapsed": false
   },
   "outputs": [
    {
     "name": "stdout",
     "output_type": "stream",
     "text": [
      "     0: 0.000000\n",
      "     0: 0.000000\n",
      "     0: 0.000000\n",
      "     0: 0.000000\n",
      "     0: 0.000000\n",
      "     0: 0.000000\n",
      "     0: 0.000000\n",
      "     0: 0.000000\n",
      "     0: 0.000000\n",
      "     0: 0.000000\n"
     ]
    }
   ],
   "source": [
    "lr = 0.1\n",
    "mom = 0.9\n",
    "\n",
    "# run an epoch\n",
    "err = []\n",
    "momW, momB = [], []\n",
    "for j in range(len(W)):\n",
    "    momW.append(np.zeros(W[j].shape).astype(np.float32))\n",
    "    momB.append(np.zeros(B[j].shape).astype(np.float32))\n",
    "    \n",
    "minibatch_size = 4\n",
    "\n",
    "for ep in range(10):\n",
    "    for i in range(0,X.shape[0],minibatch_size):\n",
    "        # do first one\n",
    "        terr, gW, gB = update(X[i])\n",
    "        err.append(terr)\n",
    "\n",
    "        # do rest in minibatch\n",
    "        for k in range(1, minibatch_size):\n",
    "            terr, tgW, tgB = update(X[i+k])\n",
    "            err.append(terr)\n",
    "            for j in range(len(W)):\n",
    "                gW[j] += tgW[j]\n",
    "                gB[j] += tgB[j]\n",
    "\n",
    "        for j in range(len(W)):\n",
    "            #print np.max(gB[j]), np.argmax(gB[j]), B[j][np.argmax(gB[j])]\n",
    "\n",
    "            gW[j] = np.clip(gW[j], -1, 1)\n",
    "            gB[j] = np.clip(gB[j], -1, 1)\n",
    "\n",
    "            updW = momW[j]*mom - gW[j]*(lr/minibatch_size)\n",
    "            updB = momB[j]*mom - gB[j]*(lr/minibatch_size)\n",
    "\n",
    "            W[j] += updW\n",
    "            B[j] += updB\n",
    "\n",
    "            momW[j] = updW\n",
    "            momB[j] = updB\n",
    "\n",
    "        if np.isnan(err[-1]):\n",
    "            print \"FAILED AT\",i, err[-10:]\n",
    "            break\n",
    "\n",
    "        if (i % 2000) == 0:\n",
    "            sys.stdout.write(\"%6d: %f\\r\\n\" % (i, np.mean(err)))\n",
    "            sys.stdout.flush()\n"
   ]
  },
  {
   "cell_type": "code",
   "execution_count": 46,
   "metadata": {
    "collapsed": false
   },
   "outputs": [
    {
     "name": "stdout",
     "output_type": "stream",
     "text": [
      "     0: 0.029202\n",
      "     1: 0.029080\n",
      "     2: 0.028958\n",
      "     3: 0.028838\n",
      "     4: 0.028719\n",
      "     5: 0.028601\n",
      "     6: 0.028483\n",
      "     7: 0.028367\n",
      "     8: 0.028251\n",
      "     9: 0.028136\n"
     ]
    }
   ],
   "source": [
    "lr = 0.001\n",
    "\n",
    "# run an epoch\n",
    "for ep in range(10):\n",
    "    err = []\n",
    "    for i in range(0,X.shape[0]):\n",
    "        terr, gW, gB = update(X[i])\n",
    "        err.append(terr)\n",
    "\n",
    "        for j in range(len(W)):\n",
    "            W[j] -= gW[j]*lr\n",
    "            B[j] -= gB[j]*lr\n",
    "            pass\n",
    "\n",
    "        if np.isnan(err[-1]):\n",
    "            print \"FAILED AT\",i, err[-10:]\n",
    "            break\n",
    "    sys.stdout.write(\"%6d: %f\\r\\n\" % (ep, np.mean(err)))\n",
    "    sys.stdout.flush()"
   ]
  },
  {
   "cell_type": "code",
   "execution_count": null,
   "metadata": {
    "collapsed": false
   },
   "outputs": [],
   "source": [
    "for i in range(1000):\n",
    "    for j in range(100):\n",
    "        update(X[j])\n",
    "    \n",
    "    \n",
    "update(X[0]), update(X[1])"
   ]
  },
  {
   "cell_type": "code",
   "execution_count": 50,
   "metadata": {
    "collapsed": false
   },
   "outputs": [
    {
     "data": {
      "text/plain": [
       "array([ 0.02711952,  0.02568256,  0.03881054,  0.04218581,  0.02783629,\n",
       "        0.02157393,  0.04471104,  0.01391777,  0.02890016,  0.02981861,\n",
       "        0.03383147,  0.01474664,  0.02984582,  0.03125127,  0.03090135,\n",
       "        0.02411032,  0.03365911,  0.03792664,  0.03710413,  0.02560797,\n",
       "        0.02848255,  0.01875023,  0.02629327,  0.02598338,  0.03478689,\n",
       "        0.02178761,  0.03270526,  0.03306433,  0.03505816,  0.027119  ,\n",
       "        0.04663128,  0.00851507], dtype=float32)"
      ]
     },
     "execution_count": 50,
     "metadata": {},
     "output_type": "execute_result"
    }
   ],
   "source": [
    "B[0]"
   ]
  },
  {
   "cell_type": "code",
   "execution_count": null,
   "metadata": {
    "collapsed": true
   },
   "outputs": [],
   "source": []
  }
 ],
 "metadata": {
  "kernelspec": {
   "display_name": "Python 2",
   "language": "python",
   "name": "python2"
  },
  "language_info": {
   "codemirror_mode": {
    "name": "ipython",
    "version": 2
   },
   "file_extension": ".py",
   "mimetype": "text/x-python",
   "name": "python",
   "nbconvert_exporter": "python",
   "pygments_lexer": "ipython2",
   "version": "2.7.10"
  }
 },
 "nbformat": 4,
 "nbformat_minor": 0
}
