{
 "cells": [
  {
   "cell_type": "code",
   "execution_count": null,
   "metadata": {
    "collapsed": false
   },
   "outputs": [],
   "source": [
    "%pylab inline\n",
    "import numpy as np\n",
    "from sklearn import preprocessing\n",
    "from keras.datasets import mnist\n",
    "from keras.utils import np_utils\n",
    "np.set_printoptions(suppress=True)\n",
    "(X_train, y_train), (X_test, y_test) = mnist.load_data()"
   ]
  },
  {
   "cell_type": "code",
   "execution_count": null,
   "metadata": {
    "collapsed": false
   },
   "outputs": [],
   "source": [
    "def preproc(X_train, y_train):\n",
    "    X = X_train\n",
    "    X = X.reshape(X.shape[0], X.shape[1] * X.shape[2]).astype(\"float32\")\n",
    "    #X = X/255\n",
    "    X = preprocessing.scale(X)\n",
    "    Y = np_utils.to_categorical(y_train, 10)\n",
    "    return X, Y\n",
    "\n",
    "X, Y = preproc(X_train, y_train)\n",
    "Xt, Yt = preproc(X_test, y_test)\n",
    "\n",
    "imshow(X[5].reshape((sqrt(X[1].shape),sqrt(X[1].shape))))"
   ]
  },
  {
   "cell_type": "code",
   "execution_count": null,
   "metadata": {
    "collapsed": false
   },
   "outputs": [],
   "source": [
    "from keras.models import Sequential\n",
    "from keras.layers.core import Dense, Dropout, Activation\n",
    "from keras.optimizers import SGD, Adam, RMSprop\n",
    "\n",
    "# uniform init\n",
    "np.random.seed(1337)\n",
    "\n",
    "# 208896 params\n",
    "model = Sequential()\n",
    "model.add(Dense(784, 32))\n",
    "model.add(Activation('tanh'))\n",
    "model.add(Dense(32, 784))\n",
    "\n",
    "# optimize\n",
    "sgd = SGD(lr=0.1, decay=1e-6, momentum=0.9, nesterov=True)\n",
    "model.compile(loss='mean_squared_error', optimizer=sgd)"
   ]
  },
  {
   "cell_type": "code",
   "execution_count": null,
   "metadata": {
    "collapsed": false
   },
   "outputs": [],
   "source": [
    "# repro\n",
    "model.fit(X, X, batch_size=128, nb_epoch=100)"
   ]
  },
  {
   "cell_type": "code",
   "execution_count": null,
   "metadata": {
    "collapsed": false
   },
   "outputs": [],
   "source": [
    "img = 5\n",
    "\n",
    "# 784*32 + 32 + 32*784 + 784 = 50992\n",
    "print W.shape, b.shape, Wp.shape, bp.shape\n",
    "W,b,Wp,bp = map(lambda x: x.get_value(), model.params)\n",
    "\n",
    "im = X[img].reshape((sqrt(X[1].shape),sqrt(X[1].shape)))\n",
    "figure(), imshow(im)\n",
    "\n",
    "x = X[img]\n",
    "m = np.tanh(np.dot(x, W) + b)\n",
    "y = np.dot(m, Wp) + bp\n",
    "\n",
    "pred = y.reshape((sqrt(X[1].shape),sqrt(X[1].shape)))\n",
    "figure(), imshow(pred)\n",
    "\n",
    "print np.mean((im-pred)**2)"
   ]
  },
  {
   "cell_type": "code",
   "execution_count": null,
   "metadata": {
    "collapsed": false
   },
   "outputs": [],
   "source": [
    "model.evaluate(X, X, verbose=2)\n",
    "model.evaluate(Xt, Xt, verbose=2)\n",
    "pass"
   ]
  },
  {
   "cell_type": "code",
   "execution_count": null,
   "metadata": {
    "collapsed": false
   },
   "outputs": [],
   "source": [
    "import pickle\n",
    "\n",
    "pickle.dump(map(lambda x: x.get_value(), model.params), open(\"sample/sgdweights\", \"wb\"))"
   ]
  },
  {
   "cell_type": "code",
   "execution_count": null,
   "metadata": {
    "collapsed": true
   },
   "outputs": [],
   "source": []
  }
 ],
 "metadata": {
  "kernelspec": {
   "display_name": "Python 2",
   "language": "python",
   "name": "python2"
  },
  "language_info": {
   "codemirror_mode": {
    "name": "ipython",
    "version": 2
   },
   "file_extension": ".py",
   "mimetype": "text/x-python",
   "name": "python",
   "nbconvert_exporter": "python",
   "pygments_lexer": "ipython2",
   "version": "2.7.10"
  }
 },
 "nbformat": 4,
 "nbformat_minor": 0
}
