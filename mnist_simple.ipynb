{
 "cells": [
  {
   "cell_type": "code",
   "execution_count": null,
   "metadata": {
    "collapsed": false
   },
   "outputs": [],
   "source": [
    "%pylab inline\n",
    "import numpy as np\n",
    "from sklearn import preprocessing\n",
    "from keras.datasets import mnist\n",
    "from keras.utils import np_utils\n",
    "np.set_printoptions(suppress=True)\n",
    "(X_train, y_train), (X_test, y_test) = mnist.load_data()"
   ]
  },
  {
   "cell_type": "code",
   "execution_count": null,
   "metadata": {
    "collapsed": false
   },
   "outputs": [],
   "source": [
    "def preproc(X_train, y_train):\n",
    "    X = X_train\n",
    "    X = X.reshape(X.shape[0], X.shape[1] * X.shape[2]).astype(\"float32\")\n",
    "    #X = X/255\n",
    "    X = preprocessing.scale(X)\n",
    "    Y = np_utils.to_categorical(y_train, 10)\n",
    "    return X, Y\n",
    "\n",
    "X, Y = preproc(X_train, y_train)\n",
    "Xt, Yt = preproc(X_test, y_test)\n",
    "\n",
    "imshow(X[5].reshape((sqrt(X[1].shape),sqrt(X[1].shape))))"
   ]
  },
  {
   "cell_type": "code",
   "execution_count": 204,
   "metadata": {
    "collapsed": false
   },
   "outputs": [],
   "source": [
    "from keras.models import Sequential\n",
    "from keras.layers.core import Dense, Dropout, Activation\n",
    "from keras.optimizers import SGD, Adam, RMSprop\n",
    "\n",
    "# uniform init\n",
    "np.random.seed(1337)\n",
    "\n",
    "# 208896 params\n",
    "model = Sequential()\n",
    "model.add(Dense(784, 256))\n",
    "model.add(Activation('tanh'))\n",
    "model.add(Dense(256, 128))\n",
    "model.add(Activation('tanh'))\n",
    "model.add(Dense(128, 32))\n",
    "model.add(Activation('tanh'))\n",
    "model.add(Dense(32, 128))\n",
    "model.add(Activation('tanh'))\n",
    "model.add(Dense(128, 256))\n",
    "model.add(Activation('tanh'))\n",
    "model.add(Dense(256, 784))\n",
    "\n",
    "# optimize\n",
    "sgd = SGD(lr=0.1, decay=1e-6, momentum=0.9, nesterov=True)\n",
    "model.compile(loss='mean_squared_error', optimizer=sgd)"
   ]
  },
  {
   "cell_type": "code",
   "execution_count": 217,
   "metadata": {
    "collapsed": false
   },
   "outputs": [
    {
     "name": "stdout",
     "output_type": "stream",
     "text": [
      "Epoch 0\n",
      "60000/60000 [==============================] - 1s - loss: 0.2309     \n",
      "Epoch 1\n",
      "60000/60000 [==============================] - 1s - loss: 0.2301     \n",
      "Epoch 2\n",
      "60000/60000 [==============================] - 1s - loss: 0.2308     \n",
      "Epoch 3\n",
      "60000/60000 [==============================] - 1s - loss: 0.2298     \n",
      "Epoch 4\n",
      "60000/60000 [==============================] - 1s - loss: 0.2298     \n",
      "Epoch 5\n",
      "60000/60000 [==============================] - 1s - loss: 0.2305     \n",
      "Epoch 6\n",
      "60000/60000 [==============================] - 1s - loss: 0.2312     \n",
      "Epoch 7\n",
      "60000/60000 [==============================] - 1s - loss: 0.2308     \n",
      "Epoch 8\n",
      "60000/60000 [==============================] - 1s - loss: 0.2313     \n",
      "Epoch 9\n",
      "60000/60000 [==============================] - 1s - loss: 0.2309     \n",
      "Epoch 10\n",
      "60000/60000 [==============================] - 1s - loss: 0.2309     \n",
      "Epoch 11\n",
      "60000/60000 [==============================] - 1s - loss: 0.2316     \n",
      "Epoch 12\n",
      "60000/60000 [==============================] - 1s - loss: 0.2308     \n",
      "Epoch 13\n",
      "60000/60000 [==============================] - 1s - loss: 0.2304     \n",
      "Epoch 14\n",
      "60000/60000 [==============================] - 1s - loss: 0.2308     \n",
      "Epoch 15\n",
      "60000/60000 [==============================] - 1s - loss: 0.2302     \n",
      "Epoch 16\n",
      "60000/60000 [==============================] - 1s - loss: 0.2297     \n",
      "Epoch 17\n",
      "60000/60000 [==============================] - 1s - loss: 0.2297     \n",
      "Epoch 18\n",
      "60000/60000 [==============================] - 1s - loss: 0.2303     \n",
      "Epoch 19\n",
      "60000/60000 [==============================] - 1s - loss: 0.2293     \n",
      "Epoch 20\n",
      "60000/60000 [==============================] - 1s - loss: 0.2288     \n",
      "Epoch 21\n",
      "60000/60000 [==============================] - 1s - loss: 0.2288     \n",
      "Epoch 22\n",
      "60000/60000 [==============================] - 1s - loss: 0.2291     \n",
      "Epoch 23\n",
      "60000/60000 [==============================] - 1s - loss: 0.2293     \n",
      "Epoch 24\n",
      "60000/60000 [==============================] - 1s - loss: 0.2282     \n",
      "Epoch 25\n",
      "60000/60000 [==============================] - 1s - loss: 0.2278     \n",
      "Epoch 26\n",
      "60000/60000 [==============================] - 1s - loss: 0.2291     \n",
      "Epoch 27\n",
      "60000/60000 [==============================] - 1s - loss: 0.2285     \n",
      "Epoch 28\n",
      "60000/60000 [==============================] - 1s - loss: 0.2284     \n",
      "Epoch 29\n",
      "60000/60000 [==============================] - 1s - loss: 0.2282     \n",
      "Epoch 30\n",
      "60000/60000 [==============================] - 1s - loss: 0.2282     \n",
      "Epoch 31\n",
      "60000/60000 [==============================] - 1s - loss: 0.2292     \n",
      "Epoch 32\n",
      "60000/60000 [==============================] - 1s - loss: 0.2290     \n",
      "Epoch 33\n",
      "60000/60000 [==============================] - 1s - loss: 0.2276     \n",
      "Epoch 34\n",
      "60000/60000 [==============================] - 1s - loss: 0.2270     \n",
      "Epoch 35\n",
      "60000/60000 [==============================] - 1s - loss: 0.2265     \n",
      "Epoch 36\n",
      "60000/60000 [==============================] - 1s - loss: 0.2266     \n",
      "Epoch 37\n",
      "60000/60000 [==============================] - 1s - loss: 0.2262     \n",
      "Epoch 38\n",
      "60000/60000 [==============================] - 1s - loss: 0.2263     \n",
      "Epoch 39\n",
      "60000/60000 [==============================] - 1s - loss: 0.2271     \n",
      "Epoch 40\n",
      "60000/60000 [==============================] - 1s - loss: 0.2265     \n",
      "Epoch 41\n",
      "60000/60000 [==============================] - 1s - loss: 0.2281     \n",
      "Epoch 42\n",
      "60000/60000 [==============================] - 1s - loss: 0.2276     \n",
      "Epoch 43\n",
      "60000/60000 [==============================] - 1s - loss: 0.2279     \n",
      "Epoch 44\n",
      "60000/60000 [==============================] - 1s - loss: 0.2283     \n",
      "Epoch 45\n",
      "60000/60000 [==============================] - 1s - loss: 0.2273     \n",
      "Epoch 46\n",
      "60000/60000 [==============================] - 1s - loss: 0.2281     \n",
      "Epoch 47\n",
      "60000/60000 [==============================] - 1s - loss: 0.2275     \n",
      "Epoch 48\n",
      "60000/60000 [==============================] - 1s - loss: 0.2278     \n",
      "Epoch 49\n",
      "60000/60000 [==============================] - 1s - loss: 0.2285     \n",
      "Epoch 50\n",
      "60000/60000 [==============================] - 1s - loss: 0.2281     \n",
      "Epoch 51\n",
      "60000/60000 [==============================] - 1s - loss: 0.2269     \n",
      "Epoch 52\n",
      "60000/60000 [==============================] - 1s - loss: 0.2271     \n",
      "Epoch 53\n",
      "60000/60000 [==============================] - 1s - loss: 0.2267     \n",
      "Epoch 54\n",
      "60000/60000 [==============================] - 1s - loss: 0.2263     \n",
      "Epoch 55\n",
      "60000/60000 [==============================] - 1s - loss: 0.2262     \n",
      "Epoch 56\n",
      "60000/60000 [==============================] - 1s - loss: 0.2260     \n",
      "Epoch 57\n",
      "60000/60000 [==============================] - 1s - loss: 0.2256     \n",
      "Epoch 58\n",
      "60000/60000 [==============================] - 1s - loss: 0.2275     \n",
      "Epoch 59\n",
      "60000/60000 [==============================] - 1s - loss: 0.2271     \n",
      "Epoch 60\n",
      "60000/60000 [==============================] - 1s - loss: 0.2267     \n",
      "Epoch 61\n",
      "60000/60000 [==============================] - 1s - loss: 0.2267     \n",
      "Epoch 62\n",
      "60000/60000 [==============================] - 1s - loss: 0.2261     \n",
      "Epoch 63\n",
      "60000/60000 [==============================] - 1s - loss: 0.2263     \n",
      "Epoch 64\n",
      "60000/60000 [==============================] - 1s - loss: 0.2281     \n",
      "Epoch 65\n",
      "60000/60000 [==============================] - 1s - loss: 0.2257     \n",
      "Epoch 66\n",
      "60000/60000 [==============================] - 1s - loss: 0.2262     \n",
      "Epoch 67\n",
      "60000/60000 [==============================] - 1s - loss: 0.2260     \n",
      "Epoch 68\n",
      "60000/60000 [==============================] - 1s - loss: 0.2276     \n",
      "Epoch 69\n",
      "60000/60000 [==============================] - 1s - loss: 0.2274     \n",
      "Epoch 70\n",
      "60000/60000 [==============================] - 1s - loss: 0.2251     \n",
      "Epoch 71\n",
      "60000/60000 [==============================] - 1s - loss: 0.2251     \n",
      "Epoch 72\n",
      "60000/60000 [==============================] - 1s - loss: 0.2246     \n",
      "Epoch 73\n",
      "60000/60000 [==============================] - 1s - loss: 0.2257     \n",
      "Epoch 74\n",
      "60000/60000 [==============================] - 1s - loss: 0.2254     \n",
      "Epoch 75\n",
      "60000/60000 [==============================] - 1s - loss: 0.2273     \n",
      "Epoch 76\n",
      "60000/60000 [==============================] - 1s - loss: 0.2258     \n",
      "Epoch 77\n",
      "60000/60000 [==============================] - 1s - loss: 0.2248     \n",
      "Epoch 78\n",
      "60000/60000 [==============================] - 1s - loss: 0.2253     \n",
      "Epoch 79\n",
      "60000/60000 [==============================] - 1s - loss: 0.2240     \n",
      "Epoch 80\n",
      "60000/60000 [==============================] - 1s - loss: 0.2240     \n",
      "Epoch 81\n",
      "60000/60000 [==============================] - 1s - loss: 0.2256     \n",
      "Epoch 82\n",
      "60000/60000 [==============================] - 1s - loss: 0.2258     \n",
      "Epoch 83\n",
      "60000/60000 [==============================] - 1s - loss: 0.2249     \n",
      "Epoch 84\n",
      "60000/60000 [==============================] - 1s - loss: 0.2251     \n",
      "Epoch 85\n",
      "60000/60000 [==============================] - 1s - loss: 0.2247     \n",
      "Epoch 86\n",
      "60000/60000 [==============================] - 1s - loss: 0.2246     \n",
      "Epoch 87\n",
      "60000/60000 [==============================] - 1s - loss: 0.2235     \n",
      "Epoch 88\n",
      "60000/60000 [==============================] - 1s - loss: 0.2233     \n",
      "Epoch 89\n",
      "60000/60000 [==============================] - 1s - loss: 0.2247     \n",
      "Epoch 90\n",
      "60000/60000 [==============================] - 1s - loss: 0.2245     \n",
      "Epoch 91\n",
      "60000/60000 [==============================] - 1s - loss: 0.2246     \n",
      "Epoch 92\n",
      "60000/60000 [==============================] - 1s - loss: 0.2253     \n",
      "Epoch 93\n",
      "60000/60000 [==============================] - 1s - loss: 0.2246     \n",
      "Epoch 94\n",
      "60000/60000 [==============================] - 1s - loss: 0.2261     \n",
      "Epoch 95\n",
      "60000/60000 [==============================] - 1s - loss: 0.2251     \n",
      "Epoch 96\n",
      "60000/60000 [==============================] - 1s - loss: 0.2254     \n",
      "Epoch 97\n",
      "60000/60000 [==============================] - 1s - loss: 0.2235     \n",
      "Epoch 98\n",
      "60000/60000 [==============================] - 1s - loss: 0.2225     \n",
      "Epoch 99\n",
      "60000/60000 [==============================] - 1s - loss: 0.2221     \n"
     ]
    },
    {
     "data": {
      "text/plain": [
       "<keras.callbacks.History at 0x7fa8f91be8d0>"
      ]
     },
     "execution_count": 217,
     "metadata": {},
     "output_type": "execute_result"
    }
   ],
   "source": [
    "# repro\n",
    "model.fit(X, X, batch_size=128, nb_epoch=100)"
   ]
  },
  {
   "cell_type": "code",
   "execution_count": 228,
   "metadata": {
    "collapsed": false
   },
   "outputs": [
    {
     "name": "stdout",
     "output_type": "stream",
     "text": [
      "1/1 [==============================] - 0s\n",
      "0.0753884187078\n"
     ]
    },
    {
     "data": {
      "image/png": "[encoded data removed]",
      "text/plain": [
       "<matplotlib.figure.Figure at 0x7fa8f433b710>"
      ]
     },
     "metadata": {},
     "output_type": "display_data"
    },
    {
     "data": {
      "image/png": "[encoded data removed]",
      "text/plain": [
       "<matplotlib.figure.Figure at 0x7fa8f4241a50>"
      ]
     },
     "metadata": {},
     "output_type": "display_data"
    }
   ],
   "source": [
    "img = 15\n",
    "\n",
    "# 784*32 + 32 + 32*784 + 784 = 50992\n",
    "#print W.shape, b.shape, Wp.shape, bp.shape\n",
    "#W,b,Wp,bp = map(lambda x: x.get_value(), model.params)\n",
    "\n",
    "im = X[img].reshape((sqrt(X[1].shape),sqrt(X[1].shape)))\n",
    "figure(), imshow(im)\n",
    "\n",
    "#x = X[img]\n",
    "#m = np.tanh(np.dot(x, W) + b)\n",
    "#y = np.dot(m, Wp) + bp\n",
    "y = model.predict((X[img:img+1]))\n",
    "\n",
    "pred = y.reshape((sqrt(X[1].shape),sqrt(X[1].shape)))\n",
    "figure(), imshow(pred)\n",
    "\n",
    "print np.mean((im-pred)**2)"
   ]
  },
  {
   "cell_type": "code",
   "execution_count": 229,
   "metadata": {
    "collapsed": false
   },
   "outputs": [
    {
     "name": "stdout",
     "output_type": "stream",
     "text": [
      "0s - loss: 0.2207\n",
      "0s - loss: 0.2063\n"
     ]
    }
   ],
   "source": [
    "model.evaluate(X, X, verbose=2)\n",
    "model.evaluate(Xt, Xt, verbose=2)\n",
    "pass"
   ]
  },
  {
   "cell_type": "code",
   "execution_count": null,
   "metadata": {
    "collapsed": false
   },
   "outputs": [],
   "source": [
    "import pickle\n",
    "\n",
    "pickle.dump(map(lambda x: x.get_value(), model.params), open(\"sample/sgdweights\", \"wb\"))"
   ]
  },
  {
   "cell_type": "code",
   "execution_count": null,
   "metadata": {
    "collapsed": false
   },
   "outputs": [],
   "source": [
    "from sklearn.decomposition import PCA\n",
    "pca = PCA(n_components=32)\n",
    "pca.fit(X)"
   ]
  },
  {
   "cell_type": "code",
   "execution_count": null,
   "metadata": {
    "collapsed": false
   },
   "outputs": [],
   "source": [
    "def do_pca(x):\n",
    "    # pca.mean_ doesn't even matter\n",
    "    Xt = np.dot(x, pca.components_.T)\n",
    "    return np.dot(Xt, pca.components_)\n",
    "\n",
    "Xll = map(do_pca, X)\n",
    "print np.mean((Xll - X)**2)"
   ]
  },
  {
   "cell_type": "code",
   "execution_count": null,
   "metadata": {
    "collapsed": false
   },
   "outputs": [],
   "source": [
    "imshow(np.dot(pca.components_.T, pca.components_))"
   ]
  },
  {
   "cell_type": "code",
   "execution_count": null,
   "metadata": {
    "collapsed": true
   },
   "outputs": [],
   "source": []
  }
 ],
 "metadata": {
  "kernelspec": {
   "display_name": "Python 2",
   "language": "python",
   "name": "python2"
  },
  "language_info": {
   "codemirror_mode": {
    "name": "ipython",
    "version": 2
   },
   "file_extension": ".py",
   "mimetype": "text/x-python",
   "name": "python",
   "nbconvert_exporter": "python",
   "pygments_lexer": "ipython2",
   "version": "2.7.10"
  }
 },
 "nbformat": 4,
 "nbformat_minor": 0
}
