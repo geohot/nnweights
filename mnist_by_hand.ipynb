{
 "cells": [
  {
   "cell_type": "code",
   "execution_count": null,
   "metadata": {
    "collapsed": false
   },
   "outputs": [],
   "source": [
    "%pylab inline\n",
    "import numpy as np\n",
    "from sklearn import preprocessing\n",
    "from keras.datasets import mnist\n",
    "from keras.utils import np_utils\n",
    "np.set_printoptions(suppress=True)\n",
    "(X_train, y_train), (X_test, y_test) = mnist.load_data()\n",
    "\n",
    "def preproc(X_train, y_train):\n",
    "    X = X_train\n",
    "    X = X.reshape(X.shape[0], X.shape[1] * X.shape[2]).astype(\"float32\")\n",
    "    #X = X/255\n",
    "    X = preprocessing.scale(X)\n",
    "    Y = np_utils.to_categorical(y_train, 10)\n",
    "    return X, Y\n",
    "\n",
    "X, Y = preproc(X_train, y_train)\n",
    "Xt, Yt = preproc(X_test, y_test)"
   ]
  },
  {
   "cell_type": "code",
   "execution_count": null,
   "metadata": {
    "collapsed": false
   },
   "outputs": [],
   "source": [
    "# add biases?\n",
    "def update(y0):\n",
    "    def dtanh(x):\n",
    "        # pass in tanh\n",
    "        return 1 - (np.tanh(x)**2)\n",
    "    \n",
    "    # forward pass\n",
    "    # L vector matrix multiplies, L vector vector adds, L-1 NL\n",
    "    net = []\n",
    "    y = [y0]\n",
    "    for i in range(len(W)):\n",
    "        net.append(np.dot(W[i], y[i]) + B[i])\n",
    "        if i != len(W)-1:   # last layer is linear\n",
    "            y.append(np.tanh(net[-1]))\n",
    "        else:\n",
    "            y.append(net[-1])\n",
    "\n",
    "    # squared error derivative, (computed - target)\n",
    "    err = y[-1] - y[0]\n",
    "    e = [2*err]\n",
    "    \n",
    "    # backward pass\n",
    "    # L-1 vector matrix multiplies, L-1 dNL\n",
    "    for i in range(len(W)-2, -1, -1):\n",
    "        te = np.dot(W[i+1].T, e[0]) * dtanh(net[i])\n",
    "        e = [te] + e\n",
    "    \n",
    "    # update the weights and biases\n",
    "    gW, gB = [], []\n",
    "    for i in range(len(W)):\n",
    "        gW.append(np.outer(e[i], y[i]))\n",
    "        gB.append(e[i])\n",
    "\n",
    "    return np.mean((err)**2), gW, gB"
   ]
  },
  {
   "cell_type": "code",
   "execution_count": null,
   "metadata": {
    "collapsed": true
   },
   "outputs": [],
   "source": []
  },
  {
   "cell_type": "code",
   "execution_count": null,
   "metadata": {
    "collapsed": true
   },
   "outputs": [],
   "source": [
    "np.random.seed(1337)\n",
    "init = 0.08\n",
    "W, B = [], []\n",
    "\n",
    "#sz = [784, 256, 32, 256, 784]\n",
    "\n",
    "sz = [32,16,32]\n",
    "\n",
    "X = np.zeros((32,32)).astype(np.float32)\n",
    "for i in range(32):\n",
    "    X[i,i] = 1.0\n",
    "\n",
    "for i in range(len(sz)-1):\n",
    "    W.append(np.random.uniform(size=(sz[i+1], sz[i]), low=-init, high=init).astype(np.float32))\n",
    "    B.append(np.random.uniform(size=(sz[i+1]), low=-init, high=init).astype(np.float32))"
   ]
  },
  {
   "cell_type": "code",
   "execution_count": null,
   "metadata": {
    "collapsed": false
   },
   "outputs": [],
   "source": [
    "from keras.models import Sequential\n",
    "from keras.layers.core import Dense, Dropout, Activation\n",
    "from keras.optimizers import SGD, Adam, RMSprop\n",
    "\n",
    "# uniform init\n",
    "np.random.seed(1337)\n",
    "\n",
    "# 208896 params\n",
    "model = Sequential()\n",
    "model.add(Dense(32, 16))\n",
    "model.add(Activation('tanh'))\n",
    "model.add(Dense(16, 32))\n",
    "\n",
    "# optimize\n",
    "opt = Adam()\n",
    "model.compile(loss='mean_squared_error', optimizer=opt)"
   ]
  },
  {
   "cell_type": "code",
   "execution_count": null,
   "metadata": {
    "collapsed": false
   },
   "outputs": [],
   "source": [
    "model.fit(X, X, batch_size=4, nb_epoch=100, verbose=0)\n",
    "model.evaluate(X, X, verbose=2)"
   ]
  },
  {
   "cell_type": "code",
   "execution_count": null,
   "metadata": {
    "collapsed": false
   },
   "outputs": [],
   "source": [
    "lr = 0.05\n",
    "mom = 0.5\n",
    "\n",
    "momW, momB = [], []\n",
    "for j in range(len(W)):\n",
    "    momW.append(np.zeros(W[j].shape).astype(np.float32))\n",
    "    momB.append(np.zeros(B[j].shape).astype(np.float32))\n",
    "\n",
    "# run an epoch\n",
    "err = []\n",
    "minibatch_size = 4\n",
    "\n",
    "for ep in range(1000):\n",
    "    for i in range(0,X.shape[0],minibatch_size):\n",
    "        # do first one\n",
    "        terr, gW, gB = update(X[i])\n",
    "        err.append(terr)\n",
    "\n",
    "        # do rest in minibatch\n",
    "        for k in range(1, minibatch_size):\n",
    "            terr, tgW, tgB = update(X[i+k])\n",
    "            err.append(terr)\n",
    "            for j in range(len(W)):\n",
    "                gW[j] += tgW[j]\n",
    "                gB[j] += tgB[j]\n",
    "\n",
    "        for j in range(len(W)):\n",
    "            #print np.max(gB[j]), np.argmax(gB[j]), B[j][np.argmax(gB[j])]\n",
    "\n",
    "            gW[j] = np.clip(gW[j], -1, 1)\n",
    "            gB[j] = np.clip(gB[j], -1, 1)\n",
    "\n",
    "            updW = momW[j]*mom - gW[j]*(lr/minibatch_size)\n",
    "            updB = momB[j]*mom - gB[j]*(lr/minibatch_size)\n",
    "\n",
    "            W[j] += updW\n",
    "            B[j] += updB\n",
    "\n",
    "            momW[j] = updW\n",
    "            momB[j] = updB\n",
    "\n",
    "        if np.isnan(err[-1]):\n",
    "            print \"FAILED AT\",i, err[-10:]\n",
    "            break\n",
    "\n",
    "        if (i % 2000) == 0:\n",
    "            sys.stdout.write(\"%6d: %f\\r\\n\" % (i, np.mean(err)))\n",
    "            sys.stdout.flush()\n"
   ]
  },
  {
   "cell_type": "code",
   "execution_count": null,
   "metadata": {
    "collapsed": false
   },
   "outputs": [],
   "source": [
    "lr = 0.001\n",
    "\n",
    "# run an epoch\n",
    "for ep in range(10):\n",
    "    err = []\n",
    "    for i in range(0,X.shape[0]):\n",
    "        terr, gW, gB = update(X[i])\n",
    "        err.append(terr)\n",
    "\n",
    "        for j in range(len(W)):\n",
    "            W[j] -= gW[j]*lr\n",
    "            B[j] -= gB[j]*lr\n",
    "            pass\n",
    "\n",
    "        if np.isnan(err[-1]):\n",
    "            print \"FAILED AT\",i, err[-10:]\n",
    "            break\n",
    "    sys.stdout.write(\"%6d: %f\\r\\n\" % (ep, np.mean(err)))\n",
    "    sys.stdout.flush()"
   ]
  },
  {
   "cell_type": "code",
   "execution_count": null,
   "metadata": {
    "collapsed": false
   },
   "outputs": [],
   "source": [
    "figure(), imshow(W[0])\n",
    "figure(), imshow(W[1])"
   ]
  },
  {
   "cell_type": "code",
   "execution_count": null,
   "metadata": {
    "collapsed": false
   },
   "outputs": [],
   "source": [
    "B[0]"
   ]
  },
  {
   "cell_type": "code",
   "execution_count": null,
   "metadata": {
    "collapsed": true
   },
   "outputs": [],
   "source": []
  }
 ],
 "metadata": {
  "kernelspec": {
   "display_name": "Python 2",
   "language": "python",
   "name": "python2"
  },
  "language_info": {
   "codemirror_mode": {
    "name": "ipython",
    "version": 2
   },
   "file_extension": ".py",
   "mimetype": "text/x-python",
   "name": "python",
   "nbconvert_exporter": "python",
   "pygments_lexer": "ipython2",
   "version": "2.7.9"
  }
 },
 "nbformat": 4,
 "nbformat_minor": 0
}
